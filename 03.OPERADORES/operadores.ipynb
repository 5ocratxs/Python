{
  "nbformat": 4,
  "nbformat_minor": 0,
  "metadata": {
    "colab": {
      "name": "operadores.ipynb",
      "provenance": [],
      "authorship_tag": "ABX9TyPzj760BKPgVF8MrEo+QyRM",
      "include_colab_link": true
    },
    "kernelspec": {
      "name": "python3",
      "display_name": "Python 3"
    },
    "language_info": {
      "name": "python"
    }
  },
  "cells": [
    {
      "cell_type": "markdown",
      "metadata": {
        "id": "view-in-github",
        "colab_type": "text"
      },
      "source": [
        "<a href=\"https://colab.research.google.com/github/escuelaDeCodigoMargaritaMaza/Python/blob/main/03.OPERADORES/operadores.ipynb\" target=\"_parent\"><img src=\"https://colab.research.google.com/assets/colab-badge.svg\" alt=\"Open In Colab\"/></a>"
      ]
    },
    {
      "cell_type": "markdown",
      "source": [
        "## Trabajar con la división\n",
        "\n",
        "Imagina que necesitas convertir un número de segundos en minutos y segundos para la visualización.\n"
      ],
      "metadata": {
        "id": "40vRYWu9Booh"
      }
    },
    {
      "cell_type": "code",
      "source": [
        "segundos = 1042"
      ],
      "metadata": {
        "id": "OLoPlg0-B6ZQ"
      },
      "execution_count": null,
      "outputs": []
    },
    {
      "cell_type": "markdown",
      "source": [
        "El primer paso es determinar el número de minutos que hay en  ``1042`` segundos. Con ``60`` segundos en un minuto, puedes dividir y obtener una respuesta de ``17.3666667`` . El número que te interesa es simplemente ``17``. Siempre que desees redondear hacia abajo, utilizando lo que se conoce como *división de piso*. Para realizar la división de piso en Python, utilizamos ``//``.\n",
        "\n",
        "\n"
      ],
      "metadata": {
        "id": "kcDA6UPkCVRz"
      }
    },
    {
      "cell_type": "code",
      "source": [
        "segundos = 1042\n",
        "ver_minutos = 1042 // 60\n",
        "print(ver_minutos)"
      ],
      "metadata": {
        "id": "eDELuI82Ct1l"
      },
      "execution_count": null,
      "outputs": []
    },
    {
      "cell_type": "markdown",
      "source": [
        "\n",
        "El siguiente paso es determinar el número de segundos. Este es el resto de si se divide por ``1042``. Puedes encontrar el resto utilizando el operador ``módulo``, que es ``%`` en Python. El resto de ``1042 / 60`` es ``22``, que es lo que proporcionará el operador del módulo.\n",
        "\n",
        "\n"
      ],
      "metadata": {
        "id": "XcF3PMzKC40Y"
      }
    },
    {
      "cell_type": "code",
      "source": [
        "segundos = 1042\n",
        "ver_minutos = 1042 // 60\n",
        "ver_segundos = 1042 % 60\n",
        "\n",
        "print(ver_minutos)\n",
        "print(ver_segundos)"
      ],
      "metadata": {
        "id": "1Bc7uS4FC-Bo"
      },
      "execution_count": null,
      "outputs": []
    },
    {
      "cell_type": "markdown",
      "source": [
        "# FECHAS\n"
      ],
      "metadata": {
        "id": "Q-YZc_eGL91e"
      }
    },
    {
      "cell_type": "code",
      "source": [
        "# Importamos la biblioteca date \n",
        "from datetime import date\n",
        "\n",
        "# Obtenemos la fecha de hoy\n",
        "date.today()\n",
        "\n",
        "# Mostramos la fecha \n",
        "print(date.today())"
      ],
      "metadata": {
        "id": "HurOVHjQMAiu"
      },
      "execution_count": null,
      "outputs": []
    },
    {
      "cell_type": "markdown",
      "source": [
        "Quieres usar una fecha con un mensaje. Ese algo suele ser un problema. Si, por ejemplo, desea mostrar la fecha de hoy en la consola, es posible que tenga un problema:"
      ],
      "metadata": {
        "id": "bXBrMrwkMI1F"
      }
    },
    {
      "cell_type": "code",
      "source": [
        "print(\"Hoy es: \" + date.today())"
      ],
      "metadata": {
        "id": "ta6hrZfqMLzx"
      },
      "execution_count": null,
      "outputs": []
    },
    {
      "cell_type": "markdown",
      "source": [
        "Lo que obtienes es un error:\n",
        "\n",
        "La última fila del mensaje le indica cuál es el problema. Está intentando usar el operador + y combinar dos tipos de datos diferentes, una cadena y una fecha.\n",
        "\n",
        "Para que este código funcione, debe convertir la fecha en una cadena. Para lograr tal conversión mediante el uso de la función de utilidad: str()"
      ],
      "metadata": {
        "id": "5a0SKbZxMUPA"
      }
    },
    {
      "cell_type": "code",
      "source": [
        "print(\"Hoy es: \" + str(date.today()))"
      ],
      "metadata": {
        "id": "4N8CfQJcMaQa"
      },
      "execution_count": null,
      "outputs": []
    },
    {
      "cell_type": "markdown",
      "source": [
        "# CADENAS\n",
        "vamos a conocer varias formas de unir variables con texto y asignar valor a las mimas variables\n",
        "\n",
        "## Inmutabilidad de las cadenas\n",
        "\n",
        "En Python, las cadenas son inmutables. Es decir, no pueden cambiar. Esta propiedad del tipo de cadena puede ser sorprendente, porque Python no te da errores cuando alteras las cadenas."
      ],
      "metadata": {
        "id": "X0G98WPWOsRm"
      }
    },
    {
      "cell_type": "code",
      "source": [
        "cad = 'esto es una cadena'\n",
        "cad + 'esto se añade a la cadena'\n",
        "\n",
        "print(cad)"
      ],
      "metadata": {
        "id": "eRcsZZnCOxTp"
      },
      "execution_count": null,
      "outputs": []
    },
    {
      "cell_type": "markdown",
      "source": [
        "El truco aquí es que debes usar un valor devuelto. Cuando agregas cadenas, Python no modifica ninguna cadena, pero devuelve una nueva cadena como resultado. Para mantener este nuevo resultado, asígnelo a una nueva variable:"
      ],
      "metadata": {
        "id": "LWvMr0B5PheB"
      }
    },
    {
      "cell_type": "code",
      "source": [
        "dos_cadenas = cad + 'esto es otra cadena'\n",
        "dos_cadenas"
      ],
      "metadata": {
        "id": "Wsa4PazYPj_L"
      },
      "execution_count": null,
      "outputs": []
    },
    {
      "cell_type": "markdown",
      "source": [
        "Acerca del uso de comillas\n",
        "Puedes incluir cadenas de Python entre comillas simples, dobles o triples. Aunque puedes usarlos indistintamente, es mejor usar un tipo de manera consistente dentro de un proyecto. Por ejemplo, la siguiente cadena utiliza comillas dobles:\n"
      ],
      "metadata": {
        "id": "thqmmxtxP6zL"
      }
    },
    {
      "cell_type": "code",
      "source": [
        "cadena = \"esto es una cadena\""
      ],
      "metadata": {
        "id": "eTcad0V9P92I"
      },
      "execution_count": null,
      "outputs": []
    },
    {
      "cell_type": "markdown",
      "source": [
        "Sin embargo, cuando una cadena contiene palabras, números o caracteres especiales (una subcadena) que también están entre comillas, debes usar un estilo diferente. Por ejemplo, si una subcadena utiliza comillas dobles, encierra toda la cadena entre comillas simples, como se muestra aquí:\n"
      ],
      "metadata": {
        "id": "MVvL_YRFQBBT"
      }
    },
    {
      "cell_type": "code",
      "source": [
        "'Podemos poner \"comillas\" dentro de la cadena'"
      ],
      "metadata": {
        "id": "d4goclFdQFlF"
      },
      "execution_count": null,
      "outputs": []
    },
    {
      "cell_type": "markdown",
      "source": [
        "Del mismo modo, si hay comillas simples (o un apóstrofo, como en Moon en el siguiente ejemplo) en cualquier lugar dentro de la cadena, encierra toda la cadena entre comillas dobles:"
      ],
      "metadata": {
        "id": "k0Eail1bQInS"
      }
    },
    {
      "cell_type": "code",
      "source": [
        "\"La cancion Moon's \""
      ],
      "metadata": {
        "id": "8qCiMQVBQL77"
      },
      "execution_count": null,
      "outputs": []
    },
    {
      "cell_type": "markdown",
      "source": [
        "\n",
        "Si no se alternan comillas simples y dobles, el intérprete de Python puede provocar un error de sintaxis, como se muestra aquí:"
      ],
      "metadata": {
        "id": "_R80XsThQPxR"
      }
    },
    {
      "cell_type": "code",
      "source": [
        "'La cancion Moon's '"
      ],
      "metadata": {
        "id": "BcagbVmkQS9f"
      },
      "execution_count": null,
      "outputs": []
    },
    {
      "cell_type": "code",
      "source": [
        "\"\"\"La canción the Moon's se escucho \"toda la noche\".\"\"\""
      ],
      "metadata": {
        "id": "onLEhkb2QYlf"
      },
      "execution_count": null,
      "outputs": []
    },
    {
      "cell_type": "markdown",
      "source": [
        "# Texto multilínea\n",
        "Hay algunas maneras diferentes de definir varias líneas de texto como una sola variable. Las formas más comunes son:\n",
        "\n",
        "Utiliza un carácter de nueva línea ().\\n\n",
        "Utiliza comillas triples (\"\"\")..\n",
        "Los caracteres de nueva línea separan el texto en varias líneas al imprimir la salida:"
      ],
      "metadata": {
        "id": "yJR0Bxk7QhiL"
      }
    },
    {
      "cell_type": "code",
      "source": [
        "multilinea = \"Datos de contrucción:\\n Rangos de error.\\n Datos a validar\"\n",
        "print(multilinea)\n",
        " \n"
      ],
      "metadata": {
        "id": "k5dr7XrCQmBK"
      },
      "execution_count": null,
      "outputs": []
    },
    {
      "cell_type": "code",
      "source": [
        "# Puedes lograr el mismo resultado utilizando comillas triples:}\n",
        "multilinea = \"\"\"Datos de contrucción:\n",
        "Rangos de error.\n",
        "Datos a validar\"\"\"\n",
        "print(multilinea)"
      ],
      "metadata": {
        "id": "srfpv7q_Qn07"
      },
      "execution_count": null,
      "outputs": []
    },
    {
      "cell_type": "markdown",
      "source": [
        "# Métodos string en Python\n",
        "Las cadenas son uno de los tipos de métodos más comunes en Python. A menudo tendrá que manipularlos para extraer información o ajustarse a un formato determinado. Python incluye varios métodos de cadena que están diseñados para realizar las transformaciones más comunes y útiles.\n",
        "\n",
        "Los métodos de cadena forman parte del tipo str. Esto significa que los métodos existen como variables de cadena o parte de la cadena directamente. Por ejemplo, el método .title(), .upper() y lower() se puede utilizar con una cadena directamente:"
      ],
      "metadata": {
        "id": "IT1aF3SPQ3dA"
      }
    },
    {
      "cell_type": "code",
      "source": [
        "nombre = 'MIGUEL MACIAS LOPEZ'\n",
        "print(nombre.lower())\n",
        "nombre = 'miguel macias lopez'\n",
        "print(nombre.upper())\n",
        "nombre = 'miguel macias lopez'\n",
        "print(nombre.title())"
      ],
      "metadata": {
        "id": "p7tee6GNQ5o9"
      },
      "execution_count": null,
      "outputs": []
    },
    {
      "cell_type": "markdown",
      "source": [
        "# Texto con varibles\n",
        "Podemos unir y llamar juntos variables y texto, o solo variables de varias maneras, conoceremos las más comunes.\n",
        "\n",
        "## Formato con signo de porcentaje (%)\n",
        "El marcador de posición es %s, %i, %f (dependiendo el tipo de dato), y la variable se pasa al texto después del carácter % fuera de la cadena. A continuación te explico cómo dar formato mediante el uso del carácter%:"
      ],
      "metadata": {
        "id": "krkUeXYaSvBp"
      }
    },
    {
      "cell_type": "code",
      "source": [
        "porc = '1/4'\n",
        "print('La población infantil es de  %s del total de la poblacion' % porc)"
      ],
      "metadata": {
        "id": "J4kKqHA4TIR8"
      },
      "execution_count": null,
      "outputs": []
    },
    {
      "cell_type": "markdown",
      "source": [
        "El uso de múltiples valores cambia la sintaxis, ya que requiere paréntesis para rodear las variables que se pasan:"
      ],
      "metadata": {
        "id": "HIJ6-ToMTlK8"
      }
    },
    {
      "cell_type": "code",
      "source": [
        "print(\"\"\"En los %s hay diversas actividades,\n",
        "    de tipo %s además de \n",
        "     %s y también encontraras apoyo en tareas en la %s.\"\"\" % ('PILARES', 'deportiva', 'culturales', 'Ciberescuela'))"
      ],
      "metadata": {
        "id": "uHMEpOvITniq"
      },
      "execution_count": null,
      "outputs": []
    },
    {
      "cell_type": "markdown",
      "source": [
        "Aunque este método sigue siendo una forma válida de dar formato a las cadenas, puede provocar errores y una disminución en la claridad en el código cuando se trata de múltiples variables. Cualquiera de las otras dos opciones de formato descritas aquí sería más adecuada para este propósito.\n",
        "\n",
        "El método .format()utiliza llaves ({}) como marcadores de posición dentro de una cadena y utiliza la asignación de variables para reemplazar el texto."
      ],
      "metadata": {
        "id": "vNOPuRTrT1gj"
      }
    },
    {
      "cell_type": "code",
      "source": [
        "porc = '1/4'\n",
        "print('La población infantil es de {} del total de la poblacion'.format(porc))"
      ],
      "metadata": {
        "id": "3qZd7dYjT4Zs"
      },
      "execution_count": null,
      "outputs": []
    },
    {
      "cell_type": "code",
      "source": [
        "print(\"\"\"En los centros {0}, puedes eoncontrar la {1} \n",
        "... existen 140 {0} donde se oferta el taller en toda la {2} \"\"\".format(\"PILARES\", \"Escuela de Código\", \"CDMX\"))"
      ],
      "metadata": {
        "id": "STexy6V2UDoS"
      },
      "execution_count": null,
      "outputs": []
    },
    {
      "cell_type": "markdown",
      "source": [
        "# Acerca de las cadenas con f\n",
        "A partir de la versión 3.6 de Python, es posible usar f-strings. Estas cadenas parecen plantillas con las mismas variables con nombre que las del código. El uso de cadenas f en el ejemplo anterior se vería así:\n",
        "\n",
        "Las variables van dentro de llaves y la cadena debe usar el prefijo f"
      ],
      "metadata": {
        "id": "x5n5QmtpUH8z"
      }
    },
    {
      "cell_type": "code",
      "source": [
        "nombre = 'PILARES'\n",
        "print(f'En los diferentes centros {nombre} podrás encontrar diversas opciones')"
      ],
      "metadata": {
        "id": "OeIcmOasUMz1"
      },
      "execution_count": null,
      "outputs": []
    },
    {
      "cell_type": "code",
      "source": [
        "nombre = 'PILARES'\n",
        "taller = 'Escuela de Código'\n",
        "ciudad = 'CDMX'\n",
        "print(f'En los centros {nombre}, puedes encontrar la {taller}\\n ... exiten 140 {nombre} en donde se oferta el taller en toda la {ciudad}')"
      ],
      "metadata": {
        "id": "Jqth6HJ9USGM"
      },
      "execution_count": null,
      "outputs": []
    },
    {
      "cell_type": "markdown",
      "source": [
        "# Con comas\n",
        "Usualmente también puedes usar \",\" para el mismo propósito "
      ],
      "metadata": {
        "id": "BMEtOXpxU-b8"
      }
    },
    {
      "cell_type": "code",
      "source": [
        "nombre = 'PILARES'\n",
        "taller = 'Escuela de Código'\n",
        "ciudad = 'CDMX'\n",
        "print(f'En los centros ',nombre,', puedes encontrar la ',taller,'\\n ... exiten 140 ',nombre,' en donde se oferta el taller en toda la ',ciudad)"
      ],
      "metadata": {
        "id": "4gcU5kZCVQTF"
      },
      "execution_count": null,
      "outputs": []
    },
    {
      "cell_type": "markdown",
      "source": [
        "# Con +"
      ],
      "metadata": {
        "id": "ME02iKyaVpfm"
      }
    },
    {
      "cell_type": "code",
      "source": [
        "nombre = 'PILARES'\n",
        "taller = 'Escuela de Código'\n",
        "ciudad = 'CDMX'\n",
        "print(f'En los centros ' + nombre +', puedes encontrar la ' + taller +'\\n ... exiten 140 ' + nombre + ' en donde se oferta el taller en toda la ' + ciudad)"
      ],
      "metadata": {
        "id": "VasxFlJnVu-B"
      },
      "execution_count": null,
      "outputs": []
    }
  ]
}