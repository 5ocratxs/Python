{
 "cells": [
  {
   "cell_type": "markdown",
   "metadata": {},
   "source": [
    "# Ejercicio Listas\n",
    "Vamos a crear y manipular una lista que contiene nombres de alumnos, esta lista contedrá los nombres siguientes: 'Juan','Pedro','Beatriz','Angel','Miguel','Paz'"
   ]
  },
  {
   "cell_type": "code",
   "execution_count": 9,
   "metadata": {},
   "outputs": [],
   "source": [
    "#Crea aqui la lista alumnos e imprime la lista\n",
    "nombres = ['Juan','Pedro','Beatriz','Angel','Miguel','Paz']"
   ]
  },
  {
   "cell_type": "markdown",
   "metadata": {},
   "source": [
    "## Solicita al usuario el nombre de un alumno\n",
    "A continuación, agrega el código para solicitar al usuario un nombre. Debido a que las cadenas distinguen entre mayúsculas y minúsculas en Python, píde al usuario que use una letra mayúscula para comenzar el nombre del alumno."
   ]
  },
  {
   "cell_type": "code",
   "execution_count": 10,
   "metadata": {},
   "outputs": [],
   "source": [
    "# Aqui crea el código que ingresara elementos a la lista, ingresa tú nombre a la lista vía consola (usando input)\n",
    "nombres.append(input('ingresa tu nombre Empezando con letra mayuscula'))"
   ]
  },
  {
   "cell_type": "code",
   "execution_count": 11,
   "metadata": {},
   "outputs": [
    {
     "name": "stdout",
     "output_type": "stream",
     "text": [
      "['Juan', 'Pedro', 'Beatriz', 'Angel', 'Miguel', 'Paz', 'Chris']\n"
     ]
    }
   ],
   "source": [
    "#imprime la lista para ver su contenido\n",
    "print(nombres)"
   ]
  },
  {
   "cell_type": "markdown",
   "metadata": {},
   "source": [
    "## Solicita al usuario el nombre de un alumno a buscar en la lista\n",
    "A continuación, agrega el código para solicitar al usuario un nombre, ingresa tu nombre."
   ]
  },
  {
   "cell_type": "code",
   "execution_count": 19,
   "metadata": {},
   "outputs": [
    {
     "name": "stdout",
     "output_type": "stream",
     "text": [
      "2\n"
     ]
    }
   ],
   "source": [
    "# ingresa aquí el código para solicitar se ingrese el nombre de un alumno a buscar(que sea tu nombre el que se va a buscar)\n",
    "numero_alumno = nombres.index(input ('Ingresa el nombre'))\n",
    "print(numero_alumno + 1)"
   ]
  },
  {
   "cell_type": "markdown",
   "metadata": {},
   "source": [
    "\n",
    "### Encuentra el alumno en la lista\n",
    "Para determinar qué alumno están más cerca que el que ingresó el usuario, debes encontrar dónde está el usuario en la lista. Puedes utilizar index para realizar esta operación. Agrega el código para encontrar el índice del alumno. (ingresa algún alumno que este en la lista)"
   ]
  },
  {
   "cell_type": "code",
   "execution_count": 22,
   "metadata": {},
   "outputs": [
    {
     "name": "stdout",
     "output_type": "stream",
     "text": [
      "el numero de lista de Chris es 7\n"
     ]
    }
   ],
   "source": [
    "# Busca el alumno en la lista e imprime la leyenda 'se ha encontrado al alumno (nombre del alumno)en la lista'\n",
    "numero_alumno = nombres.index(input ('Ingresa algun alumno que este en la lista'))\n",
    "print('el numero de lista de', nombres[numero_alumno], 'es', numero_alumno + 1)\n"
   ]
  },
  {
   "cell_type": "markdown",
   "metadata": {},
   "source": [
    "# DICCIONARIOS\n",
    "Para este ejercicio, crearás un diccionario que almacene información sobre paises y su población.\n",
    "\n",
    "Agrega el código para crear un nuevo diccionario denominado 'paises'. Rellena con la siguiente información:\n",
    "\n",
    "pais: México\n",
    "\n",
    "habitantes: 127.5 "
   ]
  },
  {
   "cell_type": "code",
   "execution_count": 2,
   "metadata": {},
   "outputs": [],
   "source": [
    "# crea aqui el diccionario\n",
    "\n",
    "paises = {\n",
    "    'Pais': 'México' ,\n",
    "    'Habitantes' : 127.5\n",
    "}\n"
   ]
  },
  {
   "cell_type": "markdown",
   "metadata": {},
   "source": [
    "Para recuperar valores, puede utilizar el método get o corchetes ([ ]) con el nombre de la clave que desea recuperar."
   ]
  },
  {
   "cell_type": "code",
   "execution_count": 4,
   "metadata": {},
   "outputs": [
    {
     "name": "stdout",
     "output_type": "stream",
     "text": [
      "México tiene 127.5 millones de habitantes\n"
     ]
    }
   ],
   "source": [
    "# Muestra el nombre del pais y el número de millones de habitantes que tiene.\n",
    "# formato: México tiene 125.5 millones de habitantes\n",
    "\n",
    "print(paises.get('Pais'),'tiene',paises.get('Habitantes'),'millones de habitantes')\n"
   ]
  },
  {
   "cell_type": "markdown",
   "metadata": {},
   "source": [
    "Puedes actualizar las claves existentes o crear otras nuevas utilizando el método update o entre corchetes ([ ]). Cuando se usa update, se pasa un nuevo objeto de diccionario con los valores actualizados o nuevos. Cuando se usan corchetes, se especifica el nombre de la clave y se asigna un nuevo valor.\n",
    "\n",
    "Agrega un nuevo valor con una clave de 'datos'. Este nuevo valor debería almacenar un diccionario con dos datos del país:\n",
    "\n",
    "idioma: 'español'\n",
    "\n",
    "moneda: 'peso'"
   ]
  },
  {
   "cell_type": "code",
   "execution_count": 2,
   "metadata": {},
   "outputs": [
    {
     "ename": "NameError",
     "evalue": "name 'paises' is not defined",
     "output_type": "error",
     "traceback": [
      "\u001b[0;31m---------------------------------------------------------------------------\u001b[0m",
      "\u001b[0;31mNameError\u001b[0m                                 Traceback (most recent call last)",
      "\u001b[0;32m<ipython-input-2-c6fff9eb2ec9>\u001b[0m in \u001b[0;36m<module>\u001b[0;34m\u001b[0m\n\u001b[1;32m      1\u001b[0m \u001b[0;31m#agrega aqui la clave de datos proporcionados\u001b[0m\u001b[0;34m\u001b[0m\u001b[0;34m\u001b[0m\u001b[0;34m\u001b[0m\u001b[0m\n\u001b[0;32m----> 2\u001b[0;31m \u001b[0mpaises\u001b[0m\u001b[0;34m.\u001b[0m\u001b[0mupdate\u001b[0m\u001b[0;34m(\u001b[0m\u001b[0;34m{\u001b[0m\u001b[0;34m'idioma'\u001b[0m \u001b[0;34m:\u001b[0m \u001b[0;34m'español'\u001b[0m\u001b[0;34m}\u001b[0m\u001b[0;34m)\u001b[0m\u001b[0;34m\u001b[0m\u001b[0;34m\u001b[0m\u001b[0m\n\u001b[0m",
      "\u001b[0;31mNameError\u001b[0m: name 'paises' is not defined"
     ]
    }
   ],
   "source": [
    "#agrega aqui la clave de datos proporcionados\n",
    "paises.update({'idioma' : 'español'})"
   ]
  },
  {
   "cell_type": "code",
   "execution_count": null,
   "metadata": {},
   "outputs": [],
   "source": [
    "# imprime el nombre del país con sus datos adicionales\n",
    "# formato: México tiene como moneda el pesoy como idioma el español\n"
   ]
  },
  {
   "cell_type": "markdown",
   "metadata": {},
   "source": [
    "Recuerda: Lo importante es intentarlo, puedes auxiliarte del github, internet, libros, etc.\n"
   ]
  },
  {
   "cell_type": "markdown",
   "metadata": {},
   "source": [
    "## SOLUCION LISTAS\n",
    "Aqui esta la solución propuesta al ejercicio, recurre a ella no sin antes tratar de solucionar el ejercicio"
   ]
  },
  {
   "cell_type": "code",
   "execution_count": null,
   "metadata": {},
   "outputs": [],
   "source": [
    "#Crea aqui la lista alumnos\n",
    "alumnos = ['Juan','Pedro','Beatriz','Angel','Miguel','Paz']\n",
    "print(alumnos)"
   ]
  },
  {
   "cell_type": "code",
   "execution_count": null,
   "metadata": {},
   "outputs": [],
   "source": [
    "# Aqui crea el código que ingresara elementos a la lista, ingresa tú nombres a la lista vía consola (usando input)\n",
    "alumnos.append(input('ingresa el nombre del alumno a ingresar, comenzado con mayúscula'))"
   ]
  },
  {
   "cell_type": "code",
   "execution_count": null,
   "metadata": {},
   "outputs": [],
   "source": [
    "#imprimimos la lista para comprobar se hayan ingresado los datos\n",
    "print(alumnos)"
   ]
  },
  {
   "cell_type": "code",
   "execution_count": null,
   "metadata": {},
   "outputs": [],
   "source": [
    "# igresa aquí el código para solicitar se ingrese el nombre de un alumno a buscar\n",
    "alumno_a_buscar = input('Ingresa el nombre del alumno a buscar en la lista(primera letra en mayúscula)')"
   ]
  },
  {
   "cell_type": "code",
   "execution_count": null,
   "metadata": {},
   "outputs": [],
   "source": [
    "# Busca el alumno en la lista e imprime la leyenda 'se ha encontrado al alumno (nombre del alumno)en la lista'\n",
    "\n",
    "alumno_index = alumnos.index(alumno_a_buscar)\n",
    "print('El alumno ',alumno_a_buscar,' si esta en la lista' )"
   ]
  },
  {
   "cell_type": "markdown",
   "metadata": {},
   "source": [
    "# SOLUCION DICCIONARIOS"
   ]
  },
  {
   "cell_type": "code",
   "execution_count": null,
   "metadata": {},
   "outputs": [],
   "source": [
    "# crea aqui el diccionario\n",
    "paises = {\n",
    "    'pais': 'México',\n",
    "    'habitantes': 125.5\n",
    "}\n"
   ]
  },
  {
   "cell_type": "code",
   "execution_count": null,
   "metadata": {},
   "outputs": [],
   "source": [
    "# Muestra el nombre del pais y el número de millones de habitantes que tiene.\n",
    "# formato: México tiene 125.5 millones de habitantes\n",
    "print(f'{paises[\"pais\"]} tiene {paises[\"habitantes\"]} millones de habitantes')"
   ]
  },
  {
   "cell_type": "code",
   "execution_count": null,
   "metadata": {},
   "outputs": [],
   "source": [
    "#agrega aqui la clave de datos proporcionados\n",
    "paises['datos'] = {\n",
    "    'idioma': 'español',\n",
    "    'moneda': 'peso'\n",
    "}"
   ]
  },
  {
   "cell_type": "code",
   "execution_count": null,
   "metadata": {},
   "outputs": [],
   "source": [
    "# imprime el nombre del país con sus datos adicionales\n",
    "# formato: México tiene como moneda el pesoy como idioma el español\n",
    "print(f'{paises[\"pais\"]} tiene como moneda el {paises[\"datos\"][\"moneda\"]} y como idioma el {paises[\"datos\"][\"idioma\"]}')"
   ]
  }
 ],
 "metadata": {
  "kernelspec": {
   "display_name": "Python 3.7.3 ('base')",
   "language": "python",
   "name": "python3"
  },
  "language_info": {
   "codemirror_mode": {
    "name": "ipython",
    "version": 3
   },
   "file_extension": ".py",
   "mimetype": "text/x-python",
   "name": "python",
   "nbconvert_exporter": "python",
   "pygments_lexer": "ipython3",
   "version": "3.7.3"
  },
  "orig_nbformat": 4,
  "vscode": {
   "interpreter": {
    "hash": "960ff172395d5f1da40de9957ac4ecefc23cede7ea67bc035e080f5eab63aae3"
   }
  }
 },
 "nbformat": 4,
 "nbformat_minor": 2
}
