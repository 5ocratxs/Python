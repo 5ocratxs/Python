{
  "nbformat": 4,
  "nbformat_minor": 0,
  "metadata": {
    "colab": {
      "name": "int_y_float.ipynb",
      "provenance": [],
      "authorship_tag": "ABX9TyNgH4NNRwrwiO6yKejFjA/0",
      "include_colab_link": true
    },
    "kernelspec": {
      "name": "python3",
      "display_name": "Python 3"
    },
    "language_info": {
      "name": "python"
    }
  },
  "cells": [
    {
      "cell_type": "markdown",
      "metadata": {
        "id": "view-in-github",
        "colab_type": "text"
      },
      "source": [
        "<a href=\"https://colab.research.google.com/github/escuelaDeCodigoMargaritaMaza/Python/blob/main/02.ENTREROS_Y_REALES/int_y_float.ipynb\" target=\"_parent\"><img src=\"https://colab.research.google.com/assets/colab-badge.svg\" alt=\"Open In Colab\"/></a>"
      ]
    },
    {
      "cell_type": "markdown",
      "source": [
        "# Para capturar información del usuario, utilice la función input()"
      ],
      "metadata": {
        "id": "aAzDhQXn7m_b"
      }
    },
    {
      "cell_type": "code",
      "execution_count": null,
      "metadata": {
        "id": "242f2CPa69TN"
      },
      "outputs": [],
      "source": [
        "print(\"Bienvenido al taller de Python en PILARES\")\n",
        "name = input(\"Introduce tú nombre \")\n",
        "print(\"Bienvenido: \" + name)"
      ]
    },
    {
      "cell_type": "markdown",
      "source": [
        "# Trabajar con números\n",
        "La función almacena un resultado como una cadena. Por lo tanto, es posible que el siguiente código no haga lo que desea que haga: input()\n",
        "\n"
      ],
      "metadata": {
        "id": "ZcNt0zNY7xEs"
      }
    },
    {
      "cell_type": "code",
      "source": [
        "print(\"Calculadora\")\n",
        "first_number = input(\"Primer número: \")\n",
        "second_number = input(\"Segundo número: \")\n",
        "print(first_number + second_number)"
      ],
      "metadata": {
        "id": "L1gvq4_7700Y"
      },
      "execution_count": null,
      "outputs": []
    },
    {
      "cell_type": "markdown",
      "source": [
        "Probablemente quieres que este programa te responda con la suma pero dará un número diferente. ¿qué salió mal?\n",
        "\n",
        "La explicación es que el programa toma ambos números como si fuesen 'cadenas de texto'. Para que el cálculo funcione correctamente, debe cambiar esas cadenas a números mediante la función int(). Modificando la última línea del programa a utilizar, puede resolver el problema:"
      ],
      "metadata": {
        "id": "QLW2llQR762d"
      }
    },
    {
      "cell_type": "code",
      "source": [
        "print(int(first_number) + int(second_number))"
      ],
      "metadata": {
        "id": "Bqz03njY7_i9"
      },
      "execution_count": null,
      "outputs": []
    }
  ]
}